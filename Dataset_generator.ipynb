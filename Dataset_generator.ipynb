{
  "nbformat": 4,
  "nbformat_minor": 0,
  "metadata": {
    "colab": {
      "provenance": [],
      "include_colab_link": true
    },
    "kernelspec": {
      "name": "python3",
      "display_name": "Python 3"
    },
    "language_info": {
      "name": "python"
    }
  },
  "cells": [
    {
      "cell_type": "markdown",
      "metadata": {
        "id": "view-in-github",
        "colab_type": "text"
      },
      "source": [
        "<a href=\"https://colab.research.google.com/github/BlitzKriegM/C-digos-Proyecto/blob/main/Dataset_generator.ipynb\" target=\"_parent\"><img src=\"https://colab.research.google.com/assets/colab-badge.svg\" alt=\"Open In Colab\"/></a>"
      ]
    },
    {
      "cell_type": "markdown",
      "source": [
        "### Install dependencies"
      ],
      "metadata": {
        "id": "6sDVOnGwgmJ4"
      }
    },
    {
      "cell_type": "code",
      "execution_count": null,
      "metadata": {
        "colab": {
          "base_uri": "https://localhost:8080/"
        },
        "id": "KvUmlV6XgLSg",
        "outputId": "5b7ca14d-6820-4b9c-abc2-3e98ed428909"
      },
      "outputs": [
        {
          "output_type": "stream",
          "name": "stdout",
          "text": [
            "\u001b[?25l     \u001b[90m━━━━━━━━━━━━━━━━━━━━━━━━━━━━━━━━━━━━━━━━\u001b[0m \u001b[32m0.0/77.0 kB\u001b[0m \u001b[31m?\u001b[0m eta \u001b[36m-:--:--\u001b[0m\r\u001b[2K     \u001b[91m━━━━━━━━━━━━━━━━━━━━━━━━━━━━━━━━━━━━━\u001b[0m\u001b[90m╺\u001b[0m\u001b[90m━━\u001b[0m \u001b[32m71.7/77.0 kB\u001b[0m \u001b[31m2.6 MB/s\u001b[0m eta \u001b[36m0:00:01\u001b[0m\r\u001b[2K     \u001b[90m━━━━━━━━━━━━━━━━━━━━━━━━━━━━━━━━━━━━━━━━\u001b[0m \u001b[32m77.0/77.0 kB\u001b[0m \u001b[31m1.7 MB/s\u001b[0m eta \u001b[36m0:00:00\u001b[0m\n",
            "\u001b[?25h\u001b[31mERROR: pip's dependency resolver does not currently take into account all the packages that are installed. This behaviour is the source of the following dependency conflicts.\n",
            "llmx 0.0.15a0 requires cohere, which is not installed.\n",
            "llmx 0.0.15a0 requires tiktoken, which is not installed.\u001b[0m\u001b[31m\n",
            "\u001b[2K     \u001b[90m━━━━━━━━━━━━━━━━━━━━━━━━━━━━━━━━━━━━━━━━\u001b[0m \u001b[32m2.0/2.0 MB\u001b[0m \u001b[31m21.4 MB/s\u001b[0m eta \u001b[36m0:00:00\u001b[0m\n",
            "\u001b[2K     \u001b[90m━━━━━━━━━━━━━━━━━━━━━━━━━━━━━━━━━━━━━━━━\u001b[0m \u001b[32m44.5/44.5 kB\u001b[0m \u001b[31m4.7 MB/s\u001b[0m eta \u001b[36m0:00:00\u001b[0m\n",
            "\u001b[2K     \u001b[90m━━━━━━━━━━━━━━━━━━━━━━━━━━━━━━━━━━━━━━━━\u001b[0m \u001b[32m49.4/49.4 kB\u001b[0m \u001b[31m5.4 MB/s\u001b[0m eta \u001b[36m0:00:00\u001b[0m\n",
            "\u001b[2K     \u001b[90m━━━━━━━━━━━━━━━━━━━━━━━━━━━━━━━━━━━━━━━━\u001b[0m \u001b[32m493.7/493.7 kB\u001b[0m \u001b[31m8.2 MB/s\u001b[0m eta \u001b[36m0:00:00\u001b[0m\n",
            "\u001b[2K     \u001b[90m━━━━━━━━━━━━━━━━━━━━━━━━━━━━━━━━━━━━━━━━\u001b[0m \u001b[32m2.8/2.8 MB\u001b[0m \u001b[31m59.1 MB/s\u001b[0m eta \u001b[36m0:00:00\u001b[0m\n",
            "\u001b[2K     \u001b[90m━━━━━━━━━━━━━━━━━━━━━━━━━━━━━━━━━━━━━━━━\u001b[0m \u001b[32m115.3/115.3 kB\u001b[0m \u001b[31m12.5 MB/s\u001b[0m eta \u001b[36m0:00:00\u001b[0m\n",
            "\u001b[2K     \u001b[90m━━━━━━━━━━━━━━━━━━━━━━━━━━━━━━━━━━━━━━━━\u001b[0m \u001b[32m134.8/134.8 kB\u001b[0m \u001b[31m15.7 MB/s\u001b[0m eta \u001b[36m0:00:00\u001b[0m\n",
            "\u001b[2K     \u001b[90m━━━━━━━━━━━━━━━━━━━━━━━━━━━━━━━━━━━━━━━━\u001b[0m \u001b[32m302.0/302.0 kB\u001b[0m \u001b[31m25.9 MB/s\u001b[0m eta \u001b[36m0:00:00\u001b[0m\n",
            "\u001b[2K     \u001b[90m━━━━━━━━━━━━━━━━━━━━━━━━━━━━━━━━━━━━━━━━\u001b[0m \u001b[32m71.5/71.5 kB\u001b[0m \u001b[31m7.8 MB/s\u001b[0m eta \u001b[36m0:00:00\u001b[0m\n",
            "\u001b[2K     \u001b[90m━━━━━━━━━━━━━━━━━━━━━━━━━━━━━━━━━━━━━━━━\u001b[0m \u001b[32m69.6/69.6 kB\u001b[0m \u001b[31m7.9 MB/s\u001b[0m eta \u001b[36m0:00:00\u001b[0m\n",
            "\u001b[2K     \u001b[90m━━━━━━━━━━━━━━━━━━━━━━━━━━━━━━━━━━━━━━━━\u001b[0m \u001b[32m58.3/58.3 kB\u001b[0m \u001b[31m6.4 MB/s\u001b[0m eta \u001b[36m0:00:00\u001b[0m\n",
            "\u001b[?25h\u001b[31mERROR: pip's dependency resolver does not currently take into account all the packages that are installed. This behaviour is the source of the following dependency conflicts.\n",
            "lida 0.0.10 requires fastapi, which is not installed.\n",
            "lida 0.0.10 requires kaleido, which is not installed.\n",
            "lida 0.0.10 requires python-multipart, which is not installed.\n",
            "lida 0.0.10 requires uvicorn, which is not installed.\n",
            "llmx 0.0.15a0 requires cohere, which is not installed.\n",
            "llmx 0.0.15a0 requires tiktoken, which is not installed.\u001b[0m\u001b[31m\n",
            "\u001b[0m"
          ]
        }
      ],
      "source": [
        "# Installl dependencies\n",
        "!pip install -q openai\n",
        "!pip install -q langchain\n",
        "!pip install -q datasets argilla"
      ]
    },
    {
      "cell_type": "markdown",
      "source": [
        "## Import libraries"
      ],
      "metadata": {
        "id": "-1ahTJJvgo6s"
      }
    },
    {
      "cell_type": "code",
      "source": [
        "# Import libraries\n",
        "import numpy as np\n",
        "import pandas as pd\n",
        "\n",
        "\n"
      ],
      "metadata": {
        "id": "u7UCYMWCgZ4p"
      },
      "execution_count": null,
      "outputs": []
    },
    {
      "cell_type": "markdown",
      "source": [
        "### Parameters definition"
      ],
      "metadata": {
        "id": "OZ1KQZbngrWr"
      }
    },
    {
      "cell_type": "code",
      "source": [
        "# Define parameters\n",
        "rac_directory_path = \"/content/drive/MyDrive/FULL-Seminario/Proyectos/rac_gpt/racs\"\n",
        "\n",
        "\n",
        "\n"
      ],
      "metadata": {
        "id": "74ahJzgegc47"
      },
      "execution_count": null,
      "outputs": []
    },
    {
      "cell_type": "markdown",
      "source": [
        "## PDF Reader"
      ],
      "metadata": {
        "id": "XpjKAsljgu7V"
      }
    },
    {
      "cell_type": "code",
      "source": [],
      "metadata": {
        "id": "YbJ32LH7gfC8"
      },
      "execution_count": null,
      "outputs": []
    },
    {
      "cell_type": "markdown",
      "source": [
        "## Question answering generation"
      ],
      "metadata": {
        "id": "zfTMmIJOgzgT"
      }
    },
    {
      "cell_type": "code",
      "source": [],
      "metadata": {
        "id": "-_frW__5g2ro"
      },
      "execution_count": null,
      "outputs": []
    },
    {
      "cell_type": "markdown",
      "source": [
        "# Connect with argilla\n"
      ],
      "metadata": {
        "id": "zFgJlDE8pQsU"
      }
    },
    {
      "cell_type": "code",
      "source": [
        "from datasets import load_dataset\n",
        "\n",
        "import argilla as rg\n",
        "\n",
        "# connect to your app endpoint (uses default team API key)\n",
        "rg.init(api_url=\"https://ejbejaranos-rac-gpt-dataset-v0.hf.space\", api_key=\"123456789\")"
      ],
      "metadata": {
        "colab": {
          "base_uri": "https://localhost:8080/"
        },
        "id": "UGJ1LRAxqqZc",
        "outputId": "af63ef2e-6280-485e-e2c6-c9999013dd55"
      },
      "execution_count": null,
      "outputs": [
        {
          "output_type": "stream",
          "name": "stderr",
          "text": [
            "/usr/local/lib/python3.10/dist-packages/argilla/client/client.py:165: UserWarning: No workspace configuration was detected. To work with Argilla datasets, specify a valid workspace name on `rg.init` or set it up through the `rg.set_workspace` function.\n",
            "  warnings.warn(\n",
            "/usr/local/lib/python3.10/dist-packages/argilla/client/client.py:182: UserWarning: You're connecting to Argilla Server 1.13.0 using a different client version (1.18.0).\n",
            "This may lead to potential compatibility issues during your experience.\n",
            "To ensure a seamless and optimized connection, we highly recommend aligning your client version with the server version.\n",
            "  warnings.warn(\n"
          ]
        }
      ]
    },
    {
      "cell_type": "code",
      "source": [
        "# Argilla dataset configuration\n",
        "#TODO: CHECK\n",
        "dataset = rg.FeedbackDataset(\n",
        "    guidelines=\"Please, read the question carefully and try to answer it as accurately as possible.\",\n",
        "    fields=[\n",
        "        rg.TextField(name=\"question\", required=True),\n",
        "        rg.TextField(name=\"answer\", required=True, use_markdown=True),\n",
        "    ],\n",
        "    questions=[\n",
        "        rg.RatingQuestion(\n",
        "            name=\"question_quality\",\n",
        "            description=\"How would you rate the quality of the question?\",\n",
        "            values=[1, 2, 3, 4, 5],\n",
        "        ),\n",
        "        rg.LabelQuestion(\n",
        "            name=\"relevant\",\n",
        "            title=\"Es este sample verdader?\",\n",
        "            labels={\"YES\": \"Yes\", \"NO\": \"No\"}, # or [\"YES\",\"NO\"]\n",
        "            required=True,\n",
        "            visible_labels=None\n",
        "        ),\n",
        "        rg.TextQuestion(\n",
        "            name=\"answer_correction\",\n",
        "            description=\"If you think the answer is not accurate, please, correct it.\",\n",
        "            required=False,\n",
        "        ),\n",
        "    ]\n",
        ")"
      ],
      "metadata": {
        "id": "Jx8aYgYy0JdJ"
      },
      "execution_count": null,
      "outputs": []
    },
    {
      "cell_type": "markdown",
      "source": [
        "## To upload only one record first time"
      ],
      "metadata": {
        "id": "3DApOzZm_h9E"
      }
    },
    {
      "cell_type": "code",
      "source": [
        "# create a single Feedback Record\n",
        "record = rg.FeedbackRecord(\n",
        "    fields={\n",
        "        \"question\": \"Que es el RAC?\",\n",
        "        \"answer\": \"El RAC ES rock, abrazos y comida.\"\n",
        "    },\n",
        "    metadata={\"source\": \"RAC01\"},\n",
        "    external_id=None\n",
        ")\n",
        "\n",
        "dataset.add_records(record)\n",
        "dataset.push_to_argilla(name=\"Unrecord\", workspace=\"admin\")"
      ],
      "metadata": {
        "id": "s1ukHWqw1gml",
        "colab": {
          "base_uri": "https://localhost:8080/"
        },
        "outputId": "2b582fa4-f9c7-4545-81f5-1f7493ff968b"
      },
      "execution_count": null,
      "outputs": [
        {
          "output_type": "stream",
          "name": "stderr",
          "text": [
            "Pushing records to Argilla...: 100%|██████████| 1/1 [00:00<00:00, 12.74it/s]\n"
          ]
        },
        {
          "output_type": "execute_result",
          "data": {
            "text/plain": [
              "RemoteFeedbackDataset(\n",
              "   id=d7e92abd-2d16-40e8-b0e5-fadcf29698f2\n",
              "   name=Unrecord\n",
              "   workspace=Workspace(id=1a5d549c-a95a-4ec3-a798-47b17dc431ba, name=admin, inserted_at=2023-11-04 21:21:12, updated_at=2023-11-04 21:21:12)\n",
              "   url=https://ejbejaranos-rac-gpt-dataset-v0.hf.space/dataset/d7e92abd-2d16-40e8-b0e5-fadcf29698f2/annotation-mode\n",
              "   fields=[RemoteTextField(id=UUID('f546c954-490c-4568-a27a-d81b66bd60ae'), client=None, name='question', title='Question', required=True, type='text', use_markdown=False), RemoteTextField(id=UUID('fd748666-db9e-45db-bc48-6eebac75323c'), client=None, name='answer', title='Answer', required=True, type='text', use_markdown=True)]\n",
              "   questions=[RemoteRatingQuestion(id=UUID('dc7d038e-98a8-44f5-949d-91c240adbddb'), client=None, name='question_quality', title='Question_quality', description=None, required=True, type='rating', values=[1, 2, 3, 4, 5]), RemoteLabelQuestion(id=UUID('5857f485-0b65-45fe-bfb9-227e50eb99e2'), client=None, name='relevant', title='Es este sample verdader?', description=None, required=True, type='label_selection', labels={'YES': 'Yes', 'NO': 'No'}, visible_labels=None), RemoteTextQuestion(id=UUID('01bf70d6-1cf4-4f5e-a5a8-5a797e126d94'), client=None, name='answer_correction', title='Answer_correction', description=None, required=False, type='text', use_markdown=False)]\n",
              "   guidelines=Please, read the question carefully and try to answer it as accurately as possible.)"
            ]
          },
          "metadata": {},
          "execution_count": 5
        }
      ]
    },
    {
      "cell_type": "markdown",
      "source": [
        "## To upload all dataset first time"
      ],
      "metadata": {
        "id": "st2zgsp-_mjV"
      }
    },
    {
      "cell_type": "code",
      "source": [
        "# Feedback Records as a list of dictionaries\n",
        "data_random = [\n",
        "    {\n",
        "        \"question\": \"What is the capital of France?\",\n",
        "        \"answer\": \"The capital of France is Paris.\",\n",
        "    },\n",
        "    {\n",
        "        \"question\": \"Who wrote the play 'Romeo and Juliet'?\",\n",
        "        \"answer\": \"The play 'Romeo and Juliet' was written by William Shakespeare.\",\n",
        "    },\n",
        "    {\n",
        "        \"question\": \"What is the chemical symbol for water?\",\n",
        "        \"answer\": \"The chemical symbol for water is H2O.\",\n",
        "    },\n",
        "    {\n",
        "        \"question\": \"When did the first moon landing occur?\",\n",
        "        \"answer\": \"The first moon landing occurred on July 20, 1969.\",\n",
        "    }\n",
        "]\n",
        "records = [rg.FeedbackRecord(fields={\"question\": record[\"question\"], \"answer\": record[\"answer\"]})  for record in data_random]\n",
        "# For multiple records\n",
        "\n",
        "dataset.add_records(records)\n",
        "dataset.push_to_argilla(name=\"multiplerecord2\", workspace=\"admin\")"
      ],
      "metadata": {
        "id": "sdT8xLaF5mos",
        "colab": {
          "base_uri": "https://localhost:8080/"
        },
        "outputId": "6ca2aa03-54b0-412a-c609-b29bbee7ec42"
      },
      "execution_count": null,
      "outputs": [
        {
          "output_type": "stream",
          "name": "stderr",
          "text": [
            "Pushing records to Argilla...: 100%|██████████| 1/1 [00:00<00:00, 12.11it/s]\n"
          ]
        },
        {
          "output_type": "execute_result",
          "data": {
            "text/plain": [
              "RemoteFeedbackDataset(\n",
              "   id=ae262745-b805-469f-9c2d-bb85cefe9d6c\n",
              "   name=multiplerecord2\n",
              "   workspace=Workspace(id=1a5d549c-a95a-4ec3-a798-47b17dc431ba, name=admin, inserted_at=2023-11-04 21:21:12, updated_at=2023-11-04 21:21:12)\n",
              "   url=https://ejbejaranos-rac-gpt-dataset-v0.hf.space/dataset/ae262745-b805-469f-9c2d-bb85cefe9d6c/annotation-mode\n",
              "   fields=[RemoteTextField(id=UUID('646f6c8e-77ed-4698-b7ac-e6e93ac6382f'), client=None, name='question', title='Question', required=True, type='text', use_markdown=False), RemoteTextField(id=UUID('18d205da-90f6-4153-b8f3-8c01d78d3be1'), client=None, name='answer', title='Answer', required=True, type='text', use_markdown=True)]\n",
              "   questions=[RemoteRatingQuestion(id=UUID('b534ef49-a81b-4783-bd50-700de76d13ee'), client=None, name='question_quality', title='Question_quality', description=None, required=True, type='rating', values=[1, 2, 3, 4, 5]), RemoteLabelQuestion(id=UUID('eb8ea6ba-7f0a-416a-83b5-a303e88bc091'), client=None, name='relevant', title='Es este sample verdader?', description=None, required=True, type='label_selection', labels={'YES': 'Yes', 'NO': 'No'}, visible_labels=None), RemoteTextQuestion(id=UUID('15f54e38-c80d-4123-a09c-238263ae6cff'), client=None, name='answer_correction', title='Answer_correction', description=None, required=False, type='text', use_markdown=False)]\n",
              "   guidelines=Please, read the question carefully and try to answer it as accurately as possible.)"
            ]
          },
          "metadata": {},
          "execution_count": 6
        }
      ]
    },
    {
      "cell_type": "markdown",
      "source": [
        "### To add new samples in the same dataset"
      ],
      "metadata": {
        "id": "kIk-AJlGAzXf"
      }
    },
    {
      "cell_type": "code",
      "source": [
        "# Feedback Records as a list of dictionaries\n",
        "data_random = [\n",
        "    {\n",
        "        \"question\": \"What is the capital of Colombia?\",\n",
        "        \"answer\": \"The capital of Colombia is Bogotá.\",\n",
        "    },\n",
        "    {\n",
        "        \"question\": \"Which famous river runs through Colombia?\",\n",
        "        \"answer\": \"The Magdalena River runs through Colombia.\",\n",
        "    },\n",
        "    {\n",
        "        \"question\": \"What is the official language of Colombia?\",\n",
        "        \"answer\": \"The official language of Colombia is Spanish.\",\n",
        "    },\n",
        "    {\n",
        "        \"question\": \"What are the famous coffee regions in Colombia?\",\n",
        "        \"answer\": \"Some of the famous coffee regions in Colombia are Quindío, Risaralda, and Caldas.\",\n",
        "    },\n",
        "    {\n",
        "        \"question\": \"What is the name of the tallest mountain in Colombia?\",\n",
        "        \"answer\": \"The tallest mountain in Colombia is the Nevado del Huila.\",\n",
        "    },\n",
        "    {\n",
        "        \"question\": \"Which Colombian city is known for its street art?\",\n",
        "        \"answer\": \"Bogotá is known for its vibrant street art scene.\",\n",
        "    },\n",
        "    {\n",
        "        \"question\": \"What is the traditional Colombian dish called?\",\n",
        "        \"answer\": \"The traditional Colombian dish is called Bandeja Paisa.\",\n",
        "    },\n",
        "    {\n",
        "        \"question\": \"Which famous Colombian writer won the Nobel Prize in Literature?\",\n",
        "        \"answer\": \"Gabriel García Márquez won the Nobel Prize in Literature.\",\n",
        "    },\n",
        "    {\n",
        "        \"question\": \"What are the famous archaeological ruins in Colombia?\",\n",
        "        \"answer\": \"The famous archaeological ruins in Colombia are at Ciudad Perdida (Lost City).\",\n",
        "    },\n",
        "    {\n",
        "        \"question\": \"Which colorful river in Colombia is often called 'The River of Five Colors'?\",\n",
        "        \"answer\": \"Caño Cristales is often called 'The River of Five Colors'.\",\n",
        "    }\n",
        "]\n",
        "\n",
        "\n",
        "records = [rg.FeedbackRecord(fields={\"question\": record[\"question\"], \"answer\": record[\"answer\"]})  for record in data_random]\n",
        "# For multiple records\n",
        "\n",
        "dataset.add_records(records)\n",
        "dataset.push_to_argilla()"
      ],
      "metadata": {
        "colab": {
          "base_uri": "https://localhost:8080/",
          "height": 85
        },
        "id": "ZRtraWqPASaW",
        "outputId": "d6c620dc-3710-414c-aa6e-2b795f66b867"
      },
      "execution_count": null,
      "outputs": [
        {
          "output_type": "display_data",
          "data": {
            "text/plain": [
              "\u001b[31m╭─\u001b[0m\u001b[31m──────────────────────────────\u001b[0m\u001b[31m \u001b[0m\u001b[1;31mTraceback \u001b[0m\u001b[1;2;31m(most recent call last)\u001b[0m\u001b[31m \u001b[0m\u001b[31m───────────────────────────────\u001b[0m\u001b[31m─╮\u001b[0m\n",
              "\u001b[31m│\u001b[0m in \u001b[92m<cell line: 50>\u001b[0m:\u001b[94m50\u001b[0m                                                                            \u001b[31m│\u001b[0m\n",
              "\u001b[31m╰──────────────────────────────────────────────────────────────────────────────────────────────────╯\u001b[0m\n",
              "\u001b[1;91mTypeError: \u001b[0m\u001b[1;35mArgillaMixin.push_to_argilla\u001b[0m\u001b[1m(\u001b[0m\u001b[1m)\u001b[0m missing \u001b[1;36m1\u001b[0m required positional argument: \u001b[32m'name'\u001b[0m\n"
            ],
            "text/html": [
              "<pre style=\"white-space:pre;overflow-x:auto;line-height:normal;font-family:Menlo,'DejaVu Sans Mono',consolas,'Courier New',monospace\"><span style=\"color: #800000; text-decoration-color: #800000\">╭─────────────────────────────── </span><span style=\"color: #800000; text-decoration-color: #800000; font-weight: bold\">Traceback </span><span style=\"color: #bf7f7f; text-decoration-color: #bf7f7f; font-weight: bold\">(most recent call last)</span><span style=\"color: #800000; text-decoration-color: #800000\"> ────────────────────────────────╮</span>\n",
              "<span style=\"color: #800000; text-decoration-color: #800000\">│</span> in <span style=\"color: #00ff00; text-decoration-color: #00ff00\">&lt;cell line: 50&gt;</span>:<span style=\"color: #0000ff; text-decoration-color: #0000ff\">50</span>                                                                            <span style=\"color: #800000; text-decoration-color: #800000\">│</span>\n",
              "<span style=\"color: #800000; text-decoration-color: #800000\">╰──────────────────────────────────────────────────────────────────────────────────────────────────╯</span>\n",
              "<span style=\"color: #ff0000; text-decoration-color: #ff0000; font-weight: bold\">TypeError: </span><span style=\"color: #800080; text-decoration-color: #800080; font-weight: bold\">ArgillaMixin.push_to_argilla</span><span style=\"font-weight: bold\">()</span> missing <span style=\"color: #008080; text-decoration-color: #008080; font-weight: bold\">1</span> required positional argument: <span style=\"color: #008000; text-decoration-color: #008000\">'name'</span>\n",
              "</pre>\n"
            ]
          },
          "metadata": {}
        }
      ]
    },
    {
      "cell_type": "code",
      "source": [],
      "metadata": {
        "id": "7NWk25s3-aWc"
      },
      "execution_count": null,
      "outputs": []
    },
    {
      "cell_type": "code",
      "source": [],
      "metadata": {
        "id": "3TFpLL-r0Jkt"
      },
      "execution_count": null,
      "outputs": []
    },
    {
      "cell_type": "code",
      "source": [],
      "metadata": {
        "id": "9ZUW9QB2tgoP"
      },
      "execution_count": null,
      "outputs": []
    }
  ]
}