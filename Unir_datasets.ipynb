{
  "nbformat": 4,
  "nbformat_minor": 0,
  "metadata": {
    "colab": {
      "provenance": [],
      "include_colab_link": true
    },
    "kernelspec": {
      "name": "python3",
      "display_name": "Python 3"
    },
    "language_info": {
      "name": "python"
    }
  },
  "cells": [
    {
      "cell_type": "markdown",
      "metadata": {
        "id": "view-in-github",
        "colab_type": "text"
      },
      "source": [
        "<a href=\"https://colab.research.google.com/github/BlitzKriegM/C-digos-Proyecto/blob/main/Unir_datasets.ipynb\" target=\"_parent\"><img src=\"https://colab.research.google.com/assets/colab-badge.svg\" alt=\"Open In Colab\"/></a>"
      ]
    },
    {
      "cell_type": "code",
      "source": [
        "!pip install pydrive -q"
      ],
      "metadata": {
        "id": "uCZ7oOQ_Whr_"
      },
      "execution_count": null,
      "outputs": []
    },
    {
      "cell_type": "code",
      "execution_count": null,
      "metadata": {
        "id": "NH2Pk-5AWHU4"
      },
      "outputs": [],
      "source": [
        "import os\n",
        "import json\n",
        "import numpy as np\n",
        "\n",
        "from os import walk, getcwd"
      ]
    },
    {
      "cell_type": "code",
      "source": [
        "# /content/drive/MyDrive/FULL-Seminario/Proyectos/rac_gpt/prompts/pruebas/RAC2/Copia_archivos\n",
        "ruta = '/content/drive/MyDrive/FULL-Seminario/Proyectos/rac_gpt/prompts/pruebas/PREGUNTAS COMPLETAS'"
      ],
      "metadata": {
        "id": "UnmPs-imb9da"
      },
      "execution_count": null,
      "outputs": []
    },
    {
      "cell_type": "code",
      "source": [
        "def ruta_archivos(ruta2):\n",
        "    path = []\n",
        "\n",
        "    for dirpath, dirnames, filenames in os.walk(ruta):  # Recorre el directorio y sus subdirectorios\n",
        "        for filename in filenames:\n",
        "\n",
        "            rutas = os.path.join(dirpath, filename)     # Une los componentes formando la ruta de acceso al archivo\n",
        "            path.append(rutas)\n",
        "\n",
        "    return path\n"
      ],
      "metadata": {
        "id": "9IAP7ij6epck"
      },
      "execution_count": null,
      "outputs": []
    },
    {
      "cell_type": "code",
      "source": [
        "path_files = ruta_archivos(ruta)\n",
        "print(path_files)"
      ],
      "metadata": {
        "colab": {
          "base_uri": "https://localhost:8080/"
        },
        "id": "uv9OuWCsWqwv",
        "outputId": "8dfff874-2145-46e9-812d-0b69310e61ee"
      },
      "execution_count": null,
      "outputs": [
        {
          "output_type": "stream",
          "name": "stdout",
          "text": [
            "['/content/drive/MyDrive/FULL-Seminario/Proyectos/rac_gpt/prompts/pruebas/PREGUNTAS COMPLETAS/rac1.txt', '/content/drive/MyDrive/FULL-Seminario/Proyectos/rac_gpt/prompts/pruebas/PREGUNTAS COMPLETAS/rac2.txt']\n"
          ]
        }
      ]
    },
    {
      "cell_type": "code",
      "source": [
        "rac = []\n",
        "\n",
        "for path_file in path_files:\n",
        "    with open(path_file, \"r\") as archivo:\n",
        "        data_json = json.load(archivo)\n",
        "        rac.extend(data_json)"
      ],
      "metadata": {
        "id": "j0sISVX8aEUj"
      },
      "execution_count": null,
      "outputs": []
    },
    {
      "cell_type": "code",
      "source": [
        "with open('/content/drive/MyDrive/FULL-Seminario/Proyectos/rac_gpt/prompts/pruebas/PREGUNTAS COMPLETAS/rac1y2.txt', 'w') as rac_unido:\n",
        "  json.dump(rac,rac_unido,  indent=4)"
      ],
      "metadata": {
        "id": "XTGCcf0S34_9"
      },
      "execution_count": null,
      "outputs": []
    },
    {
      "cell_type": "code",
      "source": [],
      "metadata": {
        "id": "-kUyz6tw7Z30"
      },
      "execution_count": null,
      "outputs": []
    },
    {
      "cell_type": "code",
      "source": [],
      "metadata": {
        "id": "NF2bdTvR7Z2z"
      },
      "execution_count": null,
      "outputs": []
    },
    {
      "cell_type": "code",
      "source": [],
      "metadata": {
        "id": "VzL9kZ9l7Zx3"
      },
      "execution_count": null,
      "outputs": []
    },
    {
      "cell_type": "code",
      "source": [],
      "metadata": {
        "id": "cQw1hJFg7Zpl"
      },
      "execution_count": null,
      "outputs": []
    },
    {
      "cell_type": "code",
      "source": [
        "\n",
        "def list_to_json (file_to_convert):\n",
        "\n",
        "  json_data = json.dumps(file_to_convert, indent=4, ensure_ascii=False)\n",
        "  print(json_data)\n",
        "\n",
        "  return json_data"
      ],
      "metadata": {
        "id": "Cqql7l9emR7L"
      },
      "execution_count": null,
      "outputs": []
    },
    {
      "cell_type": "code",
      "source": [
        "with open('/content/drive/MyDrive/FULL-Seminario/Proyectos/rac_gpt/prompts/pruebas/RAC1/Copia_archivos/Prueba_G1.txt', 'w') as archivo:\n",
        "    #rac = json.loads(Rac)\n",
        "\n",
        "    rac = '\\n'.join(data)\n",
        "    rac = rac.replace('[', '').replace(']', '').replace('},', '}').replace('}\\n{','},\\m{').replace('\\n\\n','').replace('{\\n{','')\n",
        "\n",
        "    #rac = json.dumps(rac, indent=4)\n",
        "\n",
        "    archivo.write(rac)"
      ],
      "metadata": {
        "id": "ArDhOBJNtcdX"
      },
      "execution_count": null,
      "outputs": []
    }
  ]
}