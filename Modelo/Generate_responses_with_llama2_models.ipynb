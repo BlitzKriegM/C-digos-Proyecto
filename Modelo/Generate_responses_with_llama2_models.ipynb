{
  "nbformat": 4,
  "nbformat_minor": 0,
  "metadata": {
    "colab": {
      "provenance": [],
      "include_colab_link": true
    },
    "kernelspec": {
      "name": "python3",
      "display_name": "Python 3"
    },
    "language_info": {
      "name": "python"
    }
  },
  "cells": [
    {
      "cell_type": "markdown",
      "metadata": {
        "id": "view-in-github",
        "colab_type": "text"
      },
      "source": [
        "<a href=\"https://colab.research.google.com/github/BlitzKriegM/C-digos-Proyecto/blob/main/LLama2_BasicImplementation.ipynb\" target=\"_parent\"><img src=\"https://colab.research.google.com/assets/colab-badge.svg\" alt=\"Open In Colab\"/></a>"
      ]
    },
    {
      "cell_type": "markdown",
      "source": [
        "# LLama 2 model\n",
        "\n",
        "### PLay ground implementation\n",
        "\n",
        "#### Llama 2 7b\n",
        "- https://replicate.com/a16z-infra/llama-2-7b-chat\n",
        "\n",
        "#### Llama 13 7b\n",
        "- https://replicate.com/a16z-infra/llama-2-13b-chat\n",
        "\n",
        "#### Llama 70 7b\n",
        "- https://replicate.com/replicate/llama-2-70b-chat\n",
        "\n",
        "\n",
        "Get the api key in replicate creating your acocunt https://replicate.com/docs/reference/http#models.get"
      ],
      "metadata": {
        "id": "0Sx9KPl5zXbN"
      }
    },
    {
      "cell_type": "code",
      "execution_count": null,
      "metadata": {
        "id": "_ngdXuwazRi8"
      },
      "outputs": [],
      "source": [
        "! pip install -q replicate"
      ]
    },
    {
      "cell_type": "code",
      "source": [
        "import os\n",
        "import replicate\n",
        "\n",
        "\n",
        "os.environ[\"REPLICATE_API_TOKEN\"] = \"r8_SHHT0byDygvnThQzhggCOqVwZk5V1WG0gv41k\"\n",
        "\n",
        "\n",
        "def generate_llm_response_7B(prompt_input):\n",
        "  # Prompts\n",
        "  pre_prompt = \"You are a helpful assistant. You do not respond as 'User' or pretend to be 'User'. You only respond once as 'Assistant'.\"\n",
        "\n",
        "  # Generate LLM response\n",
        "  output = replicate.run('a16z-infra/llama-2-7b-chat:d24902e3fa9b698cc208b5e63136c4e26e828659a9f09827ca6ec5bb83014381', # LLM model\n",
        "                          input={\"prompt\": f\"{pre_prompt} {prompt_input} Assistant: \", # Prompts\n",
        "                          \"temperature\":0.1, \"top_p\":0.9, \"max_length\":128, \"repetition_penalty\":1})  # Model parameters\n",
        "\n",
        "  full_response = \"\"\n",
        "\n",
        "  for item in output:\n",
        "    full_response += item\n",
        "\n",
        "  return full_response\n",
        "\n",
        "\n",
        "\n",
        "def generate_llm_response_13B(prompt_input):\n",
        "  # Prompts\n",
        "  pre_prompt = \"You are a helpful assistant. You do not respond as 'User' or pretend to be 'User'. You only respond once as 'Assistant'.\"\n",
        "\n",
        "  # Generate LLM response\n",
        "  output = replicate.run('a16z-infra/llama13b-v2-chat:df7690f1994d94e96ad9d568eac121aecf50684a0b0963b25a41cc40061269e5', # LLM model\n",
        "                          input={\"prompt\": f\"{pre_prompt} {prompt_input} Assistant: \", # Prompts\n",
        "                          \"temperature\":0.1, \"top_p\":0.9, \"max_length\":128, \"repetition_penalty\":1})  # Model parameters\n",
        "\n",
        "  full_response = \"\"\n",
        "\n",
        "  for item in output:\n",
        "    full_response += item\n",
        "\n",
        "  return full_response\n",
        "\n",
        "\n",
        "def generate_llm_response_70B(prompt_input):\n",
        "  # Prompts\n",
        "  pre_prompt = \"You are a helpful assistant. You do not respond as 'User' or pretend to be 'User'. You only respond once as 'Assistant'.\"\n",
        "\n",
        "  # Generate LLM response\n",
        "  output = replicate.run('replicate/llama-2-70b-chat:2796ee9483c3fd7aa2e171d38f4ca12251a30609463dcfd4cd76703f22e96cdf', # LLM model\n",
        "                          input={\"prompt\": f\"{pre_prompt} {prompt_input} Assistant: \", # Prompts\n",
        "                          \"temperature\":0.1, \"top_p\":0.9, \"max_length\":128, \"repetition_penalty\":1})  # Model parameters\n",
        "\n",
        "  full_response = \"\"\n",
        "\n",
        "  for item in output:\n",
        "    full_response += item\n",
        "\n",
        "  return full_response\n",
        "\n",
        "# Example usage 7B\n",
        "print(\"Example usage 7B\")\n",
        "prompt_input = \"What is RAC in Colombia?\"\n",
        "response = generate_llm_response_13B(prompt_input)\n",
        "print(response)\n",
        "print(8*\"=\")\n",
        "\n",
        "# Example usage 13B\n",
        "print(\"Example usage 13B\")\n",
        "prompt_input = \"What is RAC in Colombia?\"\n",
        "response = generate_llm_response_7B(prompt_input)\n",
        "print(response)\n",
        "print(8*\"=\")\n",
        "\n",
        "# Example usage 70B\n",
        "print(\"Example usage 70B\")\n",
        "prompt_input = \"What is RAC in Colombia?\"\n",
        "response = generate_llm_response_70B(prompt_input)\n",
        "print(response)\n",
        "print(8*\"=\")"
      ],
      "metadata": {
        "colab": {
          "base_uri": "https://localhost:8080/"
        },
        "id": "dGyFo1i81QL0",
        "outputId": "8fd6e506-7d33-40cd-d06e-b57f8b7bbfe9"
      },
      "execution_count": null,
      "outputs": [
        {
          "output_type": "stream",
          "name": "stdout",
          "text": [
            "Example usage 7B\n",
            "RAC stands for \"Registro Automotor Colombiano\" which is the Colombian Automotive Register. It is the government agency responsible for the registration and regulation of motor vehicles in Colombia.\n",
            "========\n",
            "Example usage 13B\n",
            " Hello! I'm here to help you with your question. RAC stands for Registro Agente Central, which is the Colombian National Tax Authority (Dirección de Impuestos y Aduanas Nacionales) in English. It is responsible for collecting and processing taxes in Colombia.\n",
            "========\n",
            "Example usage 70B\n",
            " RAC in Colombia stands for \"Registro de Actividades y Contratos\" which translates to \"Registry of Activities and Contracts.\" It is a government agency responsible for registering and regulating various types of contracts, including real estate transactions, business partnerships, and construction projects. The RAC serves as a public registry where individuals and companies can file their contracts and other legal documents, providing a secure and transparent record of all registered activities. This helps to protect the rights of parties involved in these transactions and ensures compliance with Colombian laws and regulations.\n",
            "========\n"
          ]
        }
      ]
    },
    {
      "cell_type": "code",
      "source": [],
      "metadata": {
        "id": "QpH_QUE20scl"
      },
      "execution_count": null,
      "outputs": []
    }
  ]
}
