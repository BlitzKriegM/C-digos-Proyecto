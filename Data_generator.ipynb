{
  "nbformat": 4,
  "nbformat_minor": 0,
  "metadata": {
    "colab": {
      "provenance": [],
      "include_colab_link": true
    },
    "kernelspec": {
      "name": "python3",
      "display_name": "Python 3"
    },
    "language_info": {
      "name": "python"
    }
  },
  "cells": [
    {
      "cell_type": "markdown",
      "metadata": {
        "id": "view-in-github",
        "colab_type": "text"
      },
      "source": [
        "<a href=\"https://colab.research.google.com/github/BlitzKriegM/C-digos-Proyecto/blob/main/Data_generator.ipynb\" target=\"_parent\"><img src=\"https://colab.research.google.com/assets/colab-badge.svg\" alt=\"Open In Colab\"/></a>"
      ]
    },
    {
      "cell_type": "code",
      "execution_count": null,
      "metadata": {
        "colab": {
          "base_uri": "https://localhost:8080/"
        },
        "id": "D_A8bZA737Lu",
        "outputId": "f00d80d9-f1e1-4637-a1d7-c6818057c1b4"
      },
      "outputs": [
        {
          "output_type": "stream",
          "name": "stdout",
          "text": [
            "\u001b[?25l     \u001b[90m━━━━━━━━━━━━━━━━━━━━━━━━━━━━━━━━━━━━━━━━\u001b[0m \u001b[32m0.0/73.6 kB\u001b[0m \u001b[31m?\u001b[0m eta \u001b[36m-:--:--\u001b[0m\r\u001b[2K     \u001b[90m━━━━━━━━━━━━━━━━━━━━━━━━━━━━━━━━━━━━━━━━\u001b[0m \u001b[32m73.6/73.6 kB\u001b[0m \u001b[31m2.0 MB/s\u001b[0m eta \u001b[36m0:00:00\u001b[0m\n",
            "\u001b[?25hMounted at /content/drive\n"
          ]
        }
      ],
      "source": [
        "!pip install openai -q\n",
        "\n",
        "from google.colab import drive\n",
        "drive.mount('/content/drive')\n"
      ]
    },
    {
      "cell_type": "code",
      "source": [
        "import os\n",
        "import openai\n",
        "import random"
      ],
      "metadata": {
        "id": "dfuWL0Jv5Xog"
      },
      "execution_count": null,
      "outputs": []
    },
    {
      "cell_type": "code",
      "source": [
        "path = '/content/drive/MyDrive/FULL-Seminario/Proyectos/rac_gpt/racs/racs_txt/rac2_limpio.txt'\n",
        "with open(path, 'r') as file:\n",
        "    contenido = file.read()\n",
        "\n",
        "RAC = contenido [10000:19000]"
      ],
      "metadata": {
        "id": "LSB1Q3hmvJC8"
      },
      "execution_count": null,
      "outputs": []
    },
    {
      "cell_type": "code",
      "source": [
        "openai.api_key = ''"
      ],
      "metadata": {
        "id": "3rgfFxVb5Ccy"
      },
      "execution_count": null,
      "outputs": []
    },
    {
      "cell_type": "code",
      "source": [
        "prompt =f'''\n",
        "            You are generating data which will be used to train a machine learning model.\n",
        "            You will generate data samples, each with a prompt/response pair.\n",
        "            Each prompt/response par, cannot exceed 20 words\n",
        "            You will do the prompt in JSON format, folling the next example:\n",
        "\n",
        "            [\n",
        "             {{\n",
        "                  \"instruction\": \"¿Cuál es el alcance del RAC 2?\",\n",
        "                  \"output\": \"El RAC 2 tiene un alcance general y establece las disposiciones generales, definiciones y abreviaturas de los Reglamentos Aeronáuticos de Colombia.\"\n",
        "              }}\n",
        "            ]\n",
        "            Gradually increase complexity in each example, until reach 11 examples.\n",
        "            Ensure uniqueness, diversity, and high-quality to train a capable model.\n",
        "            Make this with the RAC: {RAC}.'''"
      ],
      "metadata": {
        "id": "n3hccRi2-Bpe"
      },
      "execution_count": null,
      "outputs": []
    },
    {
      "cell_type": "code",
      "source": [
        "prompt =f'''\n",
        "\n",
        "            You are generating data which will be used to train a machine learning model.\n",
        "            You will generate data samples, each with a prompt/response pair, this will be done with the RAC, it is enclosed within triple quotes.\n",
        "            Generate a list of 20 data samples, each with a prompt/response pair.\n",
        "            Gradually increase complexity in each example.\n",
        "            Each prompt/response par, can not exceed 20 words.\n",
        "            Provide the samples in JSON format with the following keys:\n",
        "            intruction, output.\n",
        "\n",
        "            Make this with the RAC: {RAC}.'''"
      ],
      "metadata": {
        "id": "A8xO4Y-jyGFL"
      },
      "execution_count": null,
      "outputs": []
    },
    {
      "cell_type": "code",
      "source": [
        "def get_completion(prompt, model=\"gpt-3.5-turbo\"):\n",
        "    messages = [{\"role\": \"user\", \"content\": prompt}]\n",
        "    response = openai.ChatCompletion.create(\n",
        "        model=model,\n",
        "        messages=messages,\n",
        "        temperature=0.3,\n",
        "    )\n",
        "    return response.choices[0].message[\"content\"]"
      ],
      "metadata": {
        "id": "QUQTuJ_Ey8zM"
      },
      "execution_count": null,
      "outputs": []
    },
    {
      "cell_type": "code",
      "source": [
        "prompts = []"
      ],
      "metadata": {
        "id": "DjTqpLXWAvVI"
      },
      "execution_count": null,
      "outputs": []
    },
    {
      "cell_type": "code",
      "source": [
        "response = get_completion(prompt)\n",
        "prompts.append(response)"
      ],
      "metadata": {
        "id": "IidGcwzWyFW7"
      },
      "execution_count": null,
      "outputs": []
    },
    {
      "cell_type": "code",
      "source": [
        "with open('/content/drive/MyDrive/FULL-Seminario/Proyectos/rac_gpt/prompts/pruebas/prueba534.txt', 'w') as file:\n",
        "    file.write(response)"
      ],
      "metadata": {
        "id": "paamvg91yLtr"
      },
      "execution_count": null,
      "outputs": []
    },
    {
      "cell_type": "code",
      "source": [
        "\"\"\"\n",
        "def get_dataset:\n",
        "    For i in range 10:\n",
        "       Code to get 1 question\n",
        "       Append.sample\n",
        "       Sleep(30 segundos)\n",
        "\n",
        "\"\"\"\n"
      ],
      "metadata": {
        "id": "wKfBpUmt4mOc"
      },
      "execution_count": null,
      "outputs": []
    },
    {
      "cell_type": "markdown",
      "source": [
        "### This is a internet's model that i found"
      ],
      "metadata": {
        "id": "676x_UIF4oyO"
      }
    },
    {
      "cell_type": "code",
      "source": [
        "def generate_example(prompt, prev_examples, temperature=.5):\n",
        "    messages=[\n",
        "        {\n",
        "            \"role\": \"system\",\n",
        "            \"content\": f\"\"\"\n",
        "            You are generating data which will be used to train a machine learning model.\n",
        "            You will be given a high-level description of the model we want to train, and from that, you will generate data samples, each with a prompt/response pair.\n",
        "            You will do the prompt in JSON format, folling the next example:\n",
        "\n",
        "            [\n",
        "             {{\n",
        "                  \"instruction\": \"¿Cuál es el alcance del RAC 2?\",\n",
        "                  \"output\": \"El RAC 2 tiene un alcance general y establece las disposiciones generales, definiciones y abreviaturas de los Reglamentos Aeronáuticos de Colombia.\"\n",
        "              }}\n",
        "            ]\n",
        "            Gradually increase complexity in each example.\n",
        "            Ensure uniqueness, diversity, and high-quality to train a capable model.\n",
        "            Make this with the RAC: {prompt}.\"\"\"\n",
        "        }\n",
        "    ]\n",
        "\n",
        "    if len(prev_examples) > 0:\n",
        "        if len(prev_examples) > 10:\n",
        "            prev_examples = random.sample(prev_examples, 10)\n",
        "        for example in prev_examples:\n",
        "            messages.append({\n",
        "                \"role\": \"assistant\",\n",
        "                \"content\": example\n",
        "            })\n",
        "\n",
        "    response = openai.ChatCompletion.create(\n",
        "        model=\"gpt-3.5-turbo\",\n",
        "        messages=messages,\n",
        "        temperature=temperature,\n",
        "        max_tokens=4097,\n",
        "    )\n",
        "\n",
        "    return response.choices[0].message['content']\n",
        "\n",
        "# Generate examples\n",
        "prev_examples = []\n",
        "for i in range(number_of_examples):\n",
        "    print(f'Generating example {i}')\n",
        "    example = generate_example(prompt, prev_examples, temperature)\n",
        "    prev_examples.append(example)\n",
        "\n",
        "print(prev_examples)"
      ],
      "metadata": {
        "id": "_0wOMzMJ56jP"
      },
      "execution_count": null,
      "outputs": []
    },
    {
      "cell_type": "code",
      "source": [
        "print(prev_examples)"
      ],
      "metadata": {
        "id": "JzPleSrN-PFa",
        "colab": {
          "base_uri": "https://localhost:8080/"
        },
        "outputId": "b4c63818-d898-430b-c4bc-1ca65b36e985"
      },
      "execution_count": null,
      "outputs": [
        {
          "output_type": "stream",
          "name": "stdout",
          "text": [
            "['[\\n  {\\n    \"instruction\": \"¿Cuál es el objetivo del RAC 2?\",\\n    \"output\": \"El objetivo del RAC 2 es establecer las disposiciones generales, definiciones y abreviaturas de los Reglamentos Aeronáuticos de Colombia.\"\\n  },\\n  {\\n    \"instruction\": \"¿Cuál es la estructura del RAC 2?\",\\n    \"output\": \"El RAC 2 está estructurado en capítulos y secciones que abordan diferentes aspectos de los Reglamentos Aeronáuticos de Colombia.\"\\n  },\\n  {\\n    \"instruction\": \"¿Cuál es la importancia del RAC 2?\",\\n    \"output\": \"El RAC 2 es importante porque establece las bases y lineamientos generales para la regulación aeronáutica en Colombia.\"\\n  }\\n]', '[\\n  {\\n    \"instruction\": \"¿Cuál es la relación entre el RAC 2 y la seguridad aérea?\",\\n    \"output\": \"El RAC 2 tiene una estrecha relación con la seguridad aérea, ya que establece las normas y procedimientos para garantizar la operación segura de las aeronaves en Colombia.\"\\n  },\\n  {\\n    \"instruction\": \"¿Cuál es la diferencia entre el RAC 2 y el RAC 1?\",\\n    \"output\": \"El RAC 2 se enfoca en las disposiciones generales y definiciones, mientras que el RAC 1 aborda los requisitos técnicos y operacionales específicos para diferentes tipos de aeronaves.\"\\n  },\\n  {\\n    \"instruction\": \"¿Cuál es el proceso para actualizar el RAC 2?\",\\n    \"output\": \"El proceso para actualizar el RAC 2 involucra la revisión y consulta de expertos en la materia, así como la consideración de cambios en la normativa internacional y las mejores prácticas de la industria aeronáutica.\"\\n  }\\n]']\n"
          ]
        }
      ]
    },
    {
      "cell_type": "code",
      "source": [
        "data_str = ', '.join(str(item) for item in prev_examples)\n",
        "\n",
        "# Write the string to a file\n",
        "with open('/content/drive/MyDrive/FULL-Seminario/Proyectos/rac_gpt/prompts/pruebas/prueba1.txt', 'w') as file:\n",
        "    file.write(data_str)"
      ],
      "metadata": {
        "id": "94giCjGit9d-"
      },
      "execution_count": null,
      "outputs": []
    },
    {
      "cell_type": "code",
      "source": [],
      "metadata": {
        "id": "ZCDC0dFFt1Zc"
      },
      "execution_count": null,
      "outputs": []
    }
  ]
}